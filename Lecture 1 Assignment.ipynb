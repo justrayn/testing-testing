{
 "cells": [
  {
   "cell_type": "markdown",
   "metadata": {},
   "source": [
    "# **Lecture 1 Assignment Answers**\n",
    "\n",
    "---\n",
    "\n",
    "**Name:** Von Rayn A. Malingin  \n",
    "**Course and Year:** BSCS - 1\n",
    "\n",
    "---\n"
   ]
  },
  {
   "cell_type": "markdown",
   "metadata": {},
   "source": [
    "$\\textbf{Question 1}$\n",
    "-\n",
    "\n",
    "1. Recall the definition of a rational number, denoted as $\\mathbb{Q}$. Prove that the Euler's number $e = \\Sigma_{k=0}^\\infty \\frac{1}{k!} \\notin \\mathbb{Q}$. A factorial is defined as $k! = (k)(k-1)(k-2)(k-3)..., \\forall k \\in \\mathbb{Z}^+$, note that $0! = 1$. Furthermore, a sum notation $\\Sigma_{k=0}^\\infty k = 0+ 1 + 2 + 3 +....+...$\n",
    "\n",
    "\n",
    "$\\textbf{Answer}$\n",
    "\n",
    "\n",
    "1. **Assumption:** We start by assuming that $ e $ is rational, meaning it can be expressed as $ e = \\frac{p}{q} $ for some integers $ p $ and $q $, where $ q $) is not equal to zero.\n",
    "\n",
    "2. **Reciprocal:** We observe that if $ e $ is rational, then its reciprocal $ \\frac{1}{e} $ is also rational, because $ \\frac{1}{e} = \\frac{q}{p} $.\n",
    "\n",
    "3. **Expansion of Series:** We then consider the infinite series expansion of $ \\frac{1}{e} $, which is $ \\frac{1}{e} = \\frac{1}{2!} - \\frac{1}{3!} + \\frac{1}{4!} - \\ldots $.\n",
    "\n",
    "4. **Recall** the infinite series for $\\frac{1}{e} $(which can be obtained by putting $x = -1 $ in the power series for \\( e^x \\)).\n",
    "\n",
    "\\begin{gather}\n",
    " \\frac{1}{e} = \\frac{1}{2!} - \\frac{1}{3!} + \\frac{1}{4!} + \\ldots\n",
    "\\end{gather}\n",
    "\n",
    "5. **Grouping Terms:** We group the terms of this series into two parts: the terms up to $ \\frac{1}{a!} $ and the terms with denominators larger than $ a! $.\n",
    "\\begin{gather}\n",
    " \\frac{1}{e} = \\left[ \\frac{1}{2!} - \\frac{1}{3!} + \\frac{1}{4!} + \\ldots + (-1)^a \\frac{1}{a!} \\right] + \\left[ (-1)^{a+1} \\frac{1}{(a + 1)!} + \\ldots \\right] \n",
    "\\end{gather}\n",
    "\n",
    "\n",
    "6. **Substitution:** We substitute $ \\frac{1}{e} = \\frac{q}{p} $ and put all the terms up to $ \\frac{1}{a!} $ on the left-hand side.\n",
    "\\begin{gather}\n",
    "\\frac{b}{a} - \\left[ \\frac{1}{2!} - \\frac{1}{3!} + \\frac{1}{4!} + \\ldots + (-1)^a \\frac{1}{a!} \\right] = \\left[ (-1)^{a+1} \\frac{1}{(a + 1)!} + \\ldots \\right] \n",
    "\\end{gather}\n",
    "7. **Multiplication:** We multiply both sides of the equation by $ (-1)^{a+1} a! $.\n",
    "\\begin{gather}\n",
    "(-1)^{a+1}b(a - 1)! - (-1)^{a+1} \\left[ \\frac{a!}{2!} - \\frac{a!}{3!} + \\frac{a!}{4!} + \\ldots + (-1)^a \\frac{a!}{a!} \\right] = \\left[ \\frac{1}{(a + 1)} - \\frac{1}{(a + 1)(a + 2)} + \\ldots \\right]\n",
    "\\end{gather}\n",
    "\n",
    "8. **Observation:** The left-hand side of the equation results in an integer because each term is an integer.\n",
    "\n",
    "9. **Analysis of Right-hand Side:** The right-hand side is an alternating series, bounded above by $ \\frac{1}{(a + 1)} $ and bounded below by a positive number.\n",
    "\n",
    "10. **Contradiction:** We arrive at a contradiction because we have shown that the left-hand side is an integer while the right-hand side is a fractional value between 0 and 1.\n",
    "\n",
    "11. **Conclusion:** Since our assumption leads to a contradiction, we conclude that $ e $ cannot be a rational number, hence it is irrational.\n",
    "\n",
    "The contradiction arises from the fact that on the left-hand side, we have an integer, while on the right-hand side, we have a fractional value between 0 and 1. This contradicts the assumption that $ e $ can be expressed as a rational number. Therefore, $ e $ must be irrational."
   ]
  },
  {
   "cell_type": "markdown",
   "metadata": {},
   "source": [
    "$\\textbf{Question 2}$\n",
    "-"
   ]
  },
  {
   "cell_type": "markdown",
   "metadata": {},
   "source": [
    "2. Prove Minkowski's Inequality for sums, $\\forall \\ p>1, (a_k, b_k)>0$:\n",
    "\\begin{gather}\n",
    "\\begin{bmatrix}\n",
    "\\Sigma_{k=1}^n |a_k + b_k|^p\n",
    "\\end{bmatrix}^\\frac{1}{p}\n",
    "\\leq\n",
    "\\begin{bmatrix}\n",
    "\\Sigma_{k=1}^n |a_k|^p\n",
    "\\end{bmatrix}^\\frac{1}{p} +\n",
    "\\begin{bmatrix}\n",
    "\\Sigma_{k=1}^n |b_k|^p\n",
    "\\end{bmatrix}^\\frac{1}{p}\n",
    "\\end{gather}\n",
    "\n",
    "\n"
   ]
  },
  {
   "cell_type": "markdown",
   "metadata": {},
   "source": [
    "To prove Minkowski's inequality for sums, we'll proceed by using Hölder's inequality, which states that for all sequences of positive real numbers $\\{a_k\\}$ and $\\{b_k\\}$ and for all $p, q>1$ such that $\\frac{1}{p}+\\frac{1}{q}=1$, the following holds: \n",
    "\n",
    "\\begin{gather}\n",
    "\\sum_{k=1}^{n}|a_kb_k| \\leq \\left[ \\sum_{k=1}^{n}|a_k|^p \\right]^{\\frac{1}{p}} \\left[ \\sum_{k=1}^{n}|b_k|^q \\right]^{\\frac{1}{q}} \n",
    "\\end{gather}\n",
    "\n",
    "Now, let's prove Minkowski's inequality. For all $p>1$ and sequences $\\{a_k\\}, \\{b_k\\}>0$, we have: \n",
    "\n",
    "\\begin{gather}\n",
    "\\left[ \\sum_{k=1}^{n}|a_k+b_k|^p \\right]^{\\frac{1}{p}} = \\left[ \\sum_{k=1}^{n}|a_k+b_k| \\cdot |a_k+b_k|^{p-1} \\right]^{\\frac{1}{p}} . \n",
    "\\end{gather}\n",
    "\n",
    "Applying Hölder's inequality to the sum inside the brackets with $q=\\frac{p}{p-1}$, we get: \n",
    "\n",
    "\\begin{gather}\n",
    "\\sum_{k=1}^{n}|a_k+b_k| \\cdot |a_k+b_k|^{p-1} \\leq \\left[ \\sum_{k=1}^{n}|a_k+b_k|^p \\right]^{\\frac{1}{p}} \\left[ \\sum_{k=1}^{n}|a_k+b_k|^{(p-1)q} \\right]^{\\frac{1}{q}} . \n",
    "\\end{gather}\n",
    "\n",
    "Since $(p-1)q=p$, we have: \n",
    "\n",
    "\\begin{gather}\n",
    "\\left[ \\sum_{k=1}^{n}|a_k+b_k|^p \\right]^{\\frac{1}{p}} \\leq \\left[ \\sum_{k=1}^{n}|a_k|^p \\right]^{\\frac{1}{p}}+\\left[ \\sum_{k=1}^{n}|b_k|^p \\right]^{\\frac{1}{p}} \n",
    "\\end{gather}\n"
   ]
  },
  {
   "cell_type": "markdown",
   "metadata": {},
   "source": [
    "$\\textbf{Question 3}$\n",
    "-"
   ]
  },
  {
   "cell_type": "markdown",
   "metadata": {},
   "source": [
    "Prove the triangle inequality $|x+y| \\leq |x| + |y|, \\forall (x,y) \\in \\mathbb{R}$"
   ]
  },
  {
   "cell_type": "markdown",
   "metadata": {},
   "source": [
    "\n",
    "$\\textbf{Step 1: Definition of Absolute Value}$\n",
    "The absolute value of a real number $a$, denoted $|a|$, is defined as follows:\n",
    "- If $a \\geq 0$, then $|a| = a$.\n",
    "- If $a < 0$, then $|a| = -a$.\n",
    "\n",
    "$\\textbf{Step 2: Triangle Inequality}$\n",
    "For any real numbers $x$ and $y$, the triangle inequality states that $|x+y| \\leq |x| + |y|$.\n",
    "\n",
    "$\\textbf{Step 3: Proof of Triangle Inequality}$\n",
    "Consider the cases when $x+y \\geq 0$ and $x+y < 0$ separately.\n",
    "\n",
    "$\\textbf{Step 4: Case 1: }\\mathbf{x+y \\geq 0}$\n",
    "If $x+y \\geq 0$, then $|x+y| = x+y$. Also, $|x| + |y| = x + y$. Therefore, $|x+y| = |x| + |y|$ when $x+y \\geq 0$.\n",
    "\n",
    "$\\textbf{Step 5: Case 2:}\\mathbf {x+y < 0}$\n",
    "If $x+y < 0$, then $|x+y| = -(x+y) = -x - y$. Also, $|x| + |y| = -x + (-y) = -x - y$. Hence, $|x+y| = |x| + |y|$ when $x+y < 0$.\n",
    "\n",
    "$\\textbf{Step 6: Conclusion}$\n",
    "Since $|x+y| \\leq |x| + |y|$ holds for both cases ($x+y \\geq 0$ and $x+y < 0$), the triangle inequality is proven for all real numbers $x$ and $y$.\n",
    "\n",
    "$\\textbf{Final Answer}$\n",
    "The triangle inequality $|x+y| \\leq |x| + |y|$ holds for all real numbers $x$ and $y$.\n"
   ]
  },
  {
   "cell_type": "markdown",
   "metadata": {},
   "source": [
    "$\\textbf{Question 4}$\n",
    "-"
   ]
  },
  {
   "cell_type": "markdown",
   "metadata": {},
   "source": [
    "Prove Sedrakayan's Lemma $\\forall u_i, v_i \\in \\mathbb{R}^+$:\n",
    "\\begin{gather}\n",
    "\\frac{(\\Sigma_{i=1}^n u_i)^2}{\\Sigma_{i=1}^n v_i}\n",
    "\\leq\n",
    "\\Sigma_{i=1}^n \\frac{(u_i)^2}{v_i}\n",
    "\\end{gather}"
   ]
  },
  {
   "cell_type": "markdown",
   "metadata": {},
   "source": [
    "\n",
    "**Step 1: Understanding Sedrakayan's Lemma**\n",
    "Sedrakayan's Lemma involves the relationship between two summations of positive real numbers. It states that the square of the sum of a set of positive real numbers divided by another sum is less than or equal to the sum of the squares of the individual numbers divided by another sum.\n",
    "\n",
    "**Step 2: Breaking Down the Inequality**\n",
    "Let's break down the inequality:\n",
    "- Left-hand side: $\\frac{\\left(\\sum_{i=1}^{n} u_{i}\\right)^{2}}{\\sum_{i=1}^{n} v_{i}}$\n",
    "- Right-hand side: $\\sum_{i=1}^{n} \\frac{\\left(u_{i}\\right)^{2}}{v_{i}}$\n",
    "\n",
    "**Step 3: Proof Strategy**\n",
    "We will prove Sedrakayan's Lemma by using the Cauchy-Schwarz Inequality, which is a powerful tool in dealing with sums of squares.\n",
    "\n",
    "**Step 4: Applying Cauchy-Schwarz Inequality**\n",
    "By applying the Cauchy-Schwarz Inequality, we have:\n",
    "$\\left(\\sum_{i=1}^{n} u_{i} \\cdot \\sqrt{v_{i}}\\right)^{2} \\leq \\left(\\sum_{i=1}^{n} (u_{i})^{2}\\right) \\cdot \\left(\\sum_{i=1}^{n} v_{i}\\right)$\n",
    "\n",
    "**Step 5: Completing the Proof**\n",
    "Dividing both sides by $\\sum_{i=1}^{n} v_{i}$ gives:\n",
    "$\\frac{\\left(\\sum_{i=1}^{n} u_{i}\\right)^{2}}{\\sum_{i=1}^{n} v_{i}} \\leq \\sum_{i=1}^{n} \\frac{\\left(u_{i}\\right)^{2}}{v_{i}}$\n",
    "\n",
    "**Step 6: Conclusion**\n",
    "Therefore, Sedrakayan's Lemma is proven to be true for all sets of positive real numbers $u_{i}$ and $v_{i}$.\n",
    "\n"
   ]
  },
  {
   "cell_type": "markdown",
   "metadata": {},
   "source": [
    "$\\textbf{Question 1.2}$\n",
    "-"
   ]
  },
  {
   "cell_type": "markdown",
   "metadata": {},
   "source": [
    "1. Consider the functions $f(x) = 2x+1$, $g(x)=2y-1$, $j(x) = |f(x)+g(x)|$, and $h(x) = j(x)^2$, show for the following inequality that:\n",
    "\n",
    "\\begin{gather}\n",
    "\\sqrt{|f(x)|^2} \\geq \\sqrt{h(x)} - \\sqrt{|g(x)|^2}, \\forall (x,y) \\in \\mathbb{Z}^+\n",
    "\\end{gather}"
   ]
  },
  {
   "cell_type": "markdown",
   "metadata": {},
   "source": [
    "First, let's simplify the expressions:\n",
    "\\begin{gather}\n",
    "\\sqrt{|f(x)|^{2}} = |f(x)| = |2x+1|\n",
    "\\end{gather}\n",
    "\n",
    "\n",
    "\\begin{gather}\n",
    "\\sqrt{|g(x)|^{2}} = |g(x)| = |2y-1|\n",
    "\\end{gather}\n",
    "\n",
    "\n",
    "\\begin{gather}\n",
    "\\sqrt{h(x)} = \\sqrt{j(x)^{2}} = |f(x)+g(x)| = |2x+1+2y-1| = |2x+2y|\n",
    "\\end{gather}\n",
    "\n",
    "Now, we substitute these expressions back into the inequality:\n",
    "\\begin{gather}\n",
    "\\sqrt{|f(x)|^{2}} \\geq \\sqrt{h(x)}-\\sqrt{|g(x)|^{2}}\n",
    "\\end{gather}\n",
    "\n",
    "\\begin{gather}\n",
    "|2x+1| \\geq |2x+2y| - |2y-1|\n",
    "\\end{gather}\n",
    "\n",
    "Since $x, y \\in \\mathbb{Z}^{+}$, we can rewrite the inequality as:\n",
    "\\begin{gather}\n",
    "2x+1 \\geq 2x+2y - 2y + 1\n",
    "\\end{gather}\n",
    "\n",
    "\n",
    "\\begin{gather}\n",
    "2x+1 \\geq 2x-2y+1\n",
    "\\end{gather}\n",
    "\n",
    "\\begin{gather}\n",
    "2y \\geq 0\n",
    "\\end{gather}\n",
    "\n",
    "Since $y \\in \\mathbb{Z}^{+}$, the inequality $2y \\geq 0$ is always true. Therefore, the given inequality holds for all $(x, y) \\in \\mathbb{Z}^{+}$."
   ]
  },
  {
   "cell_type": "markdown",
   "metadata": {},
   "source": [
    "$\\textbf{Question 2.2}$\n",
    "-"
   ]
  },
  {
   "cell_type": "markdown",
   "metadata": {},
   "source": [
    "2. Prove Sedrakayan's Lemma if $u_i, v_i$ are square roots of an even integers:\n",
    "\\begin{gather}\n",
    "\\frac{(\\Sigma_{i=1}^n u_i)^2}{\\Sigma_{i=1}^n v_i}\n",
    "\\leq\n",
    "\\Sigma_{i=1}^n \\frac{(u_i)^2}{v_i}\n",
    "\\end{gather}"
   ]
  },
  {
   "cell_type": "markdown",
   "metadata": {},
   "source": [
    "Given that $u_i$ and $v_i$ are square roots of even integers, we have $u_i = 2n_i$ and $v_i = 2m_i$ for some integers $n_i$ and $m_i$.\n",
    "\n",
    "Substitute $u_i = 2n_i$ and $v_i = 2m_i$ into the inequality to get:\n",
    "\\begin{gather}\n",
    "\\frac{\\left(\\sum_{i=1}^{n} 2n_i\\right)^{2}}{\\sum_{i=1}^{n} 2m_i} \\leq \\sum_{i=1}^{n} \\frac{(2n_i)^{2}}{2m_i}\n",
    "\\end{gather}\n",
    "\n",
    "Simplify the inequality:\n",
    "\\begin{gather}\n",
    "\\frac{(2\\sum_{i=1}^{n} n_i)^{2}}{2\\sum_{i=1}^{n} m_i} \\leq \\sum_{i=1}^{n} \\frac{4n_i^{2}}{2m_i}\n",
    "\\end{gather}\n",
    "\n",
    "Further simplify:\n",
    "\\begin{gather}\n",
    "\\frac{4\\left(\\sum_{i=1}^{n} n_i\\right)^{2}}{2\\sum_{i=1}^{n} m_i} \\leq \\sum_{i=1}^{n} 2\\frac{n_i^{2}}{m_i}\n",
    "\\end{gather}\n",
    "\n",
    "Simplify again:\n",
    "\\begin{gather}\n",
    "\\frac{2\\left(\\sum_{i=1}^{n} n_i\\right)^{2}}{\\sum_{i=1}^{n} m_i} \\leq \\sum_{i=1}^{n} \\frac{2n_i^{2}}{m_i}\n",
    "\\end{gather}\n",
    "\n",
    "This inequality is true by the Cauchy-Schwarz inequality, which states that for any sequences of real numbers $a_i$ and $b_i$:\n",
    "\\begin{gather}\n",
    "\\left(\\sum_{i=1}^{n} a_i b_i\\right)^2 \\leq \\left(\\sum_{i=1}^{n} a_i^2\\right)\\left(\\sum_{i=1}^{n} b_i^2\\right)\n",
    "\\end{gather}\n",
    "\n"
   ]
  }
 ],
 "metadata": {
  "kernelspec": {
   "display_name": "base",
   "language": "python",
   "name": "python3"
  },
  "language_info": {
   "codemirror_mode": {
    "name": "ipython",
    "version": 3
   },
   "file_extension": ".py",
   "mimetype": "text/x-python",
   "name": "python",
   "nbconvert_exporter": "python",
   "pygments_lexer": "ipython3",
   "version": "3.11.5"
  }
 },
 "nbformat": 4,
 "nbformat_minor": 2
}
